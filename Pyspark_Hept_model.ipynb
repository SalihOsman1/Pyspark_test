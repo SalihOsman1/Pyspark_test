{
 "cells": [
  {
   "cell_type": "code",
   "execution_count": 69,
   "id": "4132997f",
   "metadata": {},
   "outputs": [
    {
     "name": "stdout",
     "output_type": "stream",
     "text": [
      "Requirement already satisfied: pyspark in /usr/local/lib/python3.10/dist-packages (3.4.1)\n",
      "Requirement already satisfied: py4j==0.10.9.7 in /usr/local/lib/python3.10/dist-packages (from pyspark) (0.10.9.7)\n",
      "\u001b[33mWARNING: Running pip as the 'root' user can result in broken permissions and conflicting behaviour with the system package manager. It is recommended to use a virtual environment instead: https://pip.pypa.io/warnings/venv\u001b[0m\u001b[33m\n",
      "\u001b[0m\n",
      "\u001b[1m[\u001b[0m\u001b[34;49mnotice\u001b[0m\u001b[1;39;49m]\u001b[0m\u001b[39;49m A new release of pip is available: \u001b[0m\u001b[31;49m23.1.2\u001b[0m\u001b[39;49m -> \u001b[0m\u001b[32;49m23.2.1\u001b[0m\n",
      "\u001b[1m[\u001b[0m\u001b[34;49mnotice\u001b[0m\u001b[1;39;49m]\u001b[0m\u001b[39;49m To update, run: \u001b[0m\u001b[32;49mpython3 -m pip install --upgrade pip\u001b[0m\n"
     ]
    }
   ],
   "source": [
    "####### Pyspark excercise\n",
    "import pandas as pd\n",
    "import numpy as np\n",
    "import os\n",
    "import sys\n",
    "!pip install pyspark\n",
    "from pyspark import SparkContext"
   ]
  },
  {
   "cell_type": "code",
   "execution_count": 73,
   "id": "fe0d17f9",
   "metadata": {},
   "outputs": [
    {
     "data": {
      "text/html": [
       "\n",
       "        <div>\n",
       "            <p><b>SparkContext</b></p>\n",
       "\n",
       "            <p><a href=\"http://172.22.57.122:4040\">Spark UI</a></p>\n",
       "\n",
       "            <dl>\n",
       "              <dt>Version</dt>\n",
       "                <dd><code>v3.4.1</code></dd>\n",
       "              <dt>Master</dt>\n",
       "                <dd><code>local[2]</code></dd>\n",
       "              <dt>AppName</dt>\n",
       "                <dd><code>pyspark-shell</code></dd>\n",
       "            </dl>\n",
       "        </div>\n",
       "        "
      ],
      "text/plain": [
       "<SparkContext master=local[2] appName=pyspark-shell>"
      ]
     },
     "execution_count": 73,
     "metadata": {},
     "output_type": "execute_result"
    }
   ],
   "source": [
    "#sc=SparkContext(master='local[2]')\n",
    "sc"
   ]
  },
  {
   "cell_type": "code",
   "execution_count": 74,
   "id": "d1b0fe2b",
   "metadata": {},
   "outputs": [
    {
     "data": {
      "text/plain": [
       "['Estimator',\n",
       " 'Model',\n",
       " 'Pipeline',\n",
       " 'PipelineModel',\n",
       " 'PredictionModel',\n",
       " 'Predictor',\n",
       " 'TorchDistributor',\n",
       " 'Transformer',\n",
       " 'UnaryTransformer',\n",
       " '__all__',\n",
       " '__builtins__',\n",
       " '__cached__',\n",
       " '__doc__',\n",
       " '__file__',\n",
       " '__loader__',\n",
       " '__name__',\n",
       " '__package__',\n",
       " '__path__',\n",
       " '__spec__',\n",
       " 'base',\n",
       " 'classification',\n",
       " 'clustering',\n",
       " 'common',\n",
       " 'evaluation',\n",
       " 'feature',\n",
       " 'fpm',\n",
       " 'image',\n",
       " 'linalg',\n",
       " 'param',\n",
       " 'pipeline',\n",
       " 'recommendation',\n",
       " 'regression',\n",
       " 'stat',\n",
       " 'torch',\n",
       " 'tree',\n",
       " 'tuning',\n",
       " 'util',\n",
       " 'wrapper']"
      ]
     },
     "execution_count": 74,
     "metadata": {},
     "output_type": "execute_result"
    }
   ],
   "source": [
    "import pyspark.ml\n",
    "dir(pyspark.ml)"
   ]
  },
  {
   "cell_type": "code",
   "execution_count": 75,
   "id": "33cf7149",
   "metadata": {},
   "outputs": [],
   "source": [
    "from pyspark.sql import SparkSession\n",
    "\n",
    "# df=.read().csv('hcvdat0.csv', header=True, inferSchema=True)\n",
    "# df.show()\n",
    "# df.describe().show()"
   ]
  },
  {
   "cell_type": "code",
   "execution_count": 76,
   "id": "81e5379c",
   "metadata": {},
   "outputs": [],
   "source": [
    "spark= SparkSession.builder.appName(\"SaprkApp\").getOrCreate()"
   ]
  },
  {
   "cell_type": "code",
   "execution_count": 77,
   "id": "65ab8749",
   "metadata": {},
   "outputs": [
    {
     "name": "stdout",
     "output_type": "stream",
     "text": [
      "+---+-------------+---+---+----+----+----+----+----+-----+----+-----+----+----+\n",
      "|_c0|     Category|Age|Sex| ALB| ALP| ALT| AST| BIL|  CHE|CHOL| CREA| GGT|PROT|\n",
      "+---+-------------+---+---+----+----+----+----+----+-----+----+-----+----+----+\n",
      "|  1|0=Blood Donor| 32|  m|38.5|52.5| 7.7|22.1| 7.5| 6.93|3.23|106.0|12.1|  69|\n",
      "|  2|0=Blood Donor| 32|  m|38.5|70.3|  18|24.7| 3.9|11.17| 4.8| 74.0|15.6|76.5|\n",
      "|  3|0=Blood Donor| 32|  m|46.9|74.7|36.2|52.6| 6.1| 8.84| 5.2| 86.0|33.2|79.3|\n",
      "|  4|0=Blood Donor| 32|  m|43.2|  52|30.6|22.6|18.9| 7.33|4.74| 80.0|33.8|75.7|\n",
      "|  5|0=Blood Donor| 32|  m|39.2|74.1|32.6|24.8| 9.6| 9.15|4.32| 76.0|29.9|68.7|\n",
      "|  6|0=Blood Donor| 32|  m|41.6|43.3|18.5|19.7|12.3| 9.92|6.05|111.0|91.0|  74|\n",
      "|  7|0=Blood Donor| 32|  m|46.3|41.3|17.5|17.8| 8.5| 7.01|4.79| 70.0|16.9|74.5|\n",
      "|  8|0=Blood Donor| 32|  m|42.2|41.9|35.8|31.1|16.1| 5.82| 4.6|109.0|21.5|67.1|\n",
      "|  9|0=Blood Donor| 32|  m|50.9|65.5|23.2|21.2| 6.9| 8.69| 4.1| 83.0|13.7|71.3|\n",
      "| 10|0=Blood Donor| 32|  m|42.4|86.3|20.3|20.0|35.2| 5.46|4.45| 81.0|15.9|69.9|\n",
      "| 11|0=Blood Donor| 32|  m|44.3|52.3|21.7|22.4|17.2| 4.15|3.57| 78.0|24.1|75.4|\n",
      "| 12|0=Blood Donor| 33|  m|46.4|68.2|10.3|20.0| 5.7| 7.36| 4.3| 79.0|18.7|68.6|\n",
      "| 13|0=Blood Donor| 33|  m|36.3|78.6|23.6|22.0| 7.0| 8.56|5.38| 78.0|19.4|68.7|\n",
      "| 14|0=Blood Donor| 33|  m|  39|51.7|15.9|24.0| 6.8| 6.46|3.38| 65.0| 7.0|70.4|\n",
      "| 15|0=Blood Donor| 33|  m|38.7|39.8|22.5|23.0| 4.1| 4.63|4.97| 63.0|15.2|71.9|\n",
      "| 16|0=Blood Donor| 33|  m|41.8|  65|33.1|38.0| 6.6| 8.83|4.43| 71.0|24.0|72.7|\n",
      "| 17|0=Blood Donor| 33|  m|40.9|  73|17.2|22.9|10.0| 6.98|5.22| 90.0|14.7|72.4|\n",
      "| 18|0=Blood Donor| 33|  m|45.2|88.3|32.4|31.2|10.1| 9.78|5.51|102.0|48.5|76.5|\n",
      "| 19|0=Blood Donor| 33|  m|36.6|57.1|38.9|40.3|24.9| 9.62| 5.5|112.0|27.6|69.3|\n",
      "| 20|0=Blood Donor| 33|  m|  42|63.1|32.6|34.9|11.2| 7.01|4.05|105.0|19.1|68.1|\n",
      "+---+-------------+---+---+----+----+----+----+----+-----+----+-----+----+----+\n",
      "only showing top 20 rows\n",
      "\n"
     ]
    },
    {
     "name": "stderr",
     "output_type": "stream",
     "text": [
      "23/08/11 17:06:47 WARN CSVHeaderChecker: CSV header does not conform to the schema.\n",
      " Header: , Category, Age, Sex, ALB, ALP, ALT, AST, BIL, CHE, CHOL, CREA, GGT, PROT\n",
      " Schema: _c0, Category, Age, Sex, ALB, ALP, ALT, AST, BIL, CHE, CHOL, CREA, GGT, PROT\n",
      "Expected: _c0 but found: \n",
      "CSV file: file:///mnt/c/Users/salsa/Documents/PySpark/hcvdat0.csv\n"
     ]
    }
   ],
   "source": [
    "df=spark.read.csv('hcvdat0.csv', header=True, inferSchema=True)\n",
    "df.show()"
   ]
  },
  {
   "cell_type": "code",
   "execution_count": 78,
   "id": "a642286f",
   "metadata": {},
   "outputs": [
    {
     "name": "stdout",
     "output_type": "stream",
     "text": [
      "['_c0', 'Category', 'Age', 'Sex', 'ALB', 'ALP', 'ALT', 'AST', 'BIL', 'CHE', 'CHOL', 'CREA', 'GGT', 'PROT']\n"
     ]
    }
   ],
   "source": [
    "print(df.columns)"
   ]
  },
  {
   "cell_type": "code",
   "execution_count": 79,
   "id": "491801dc",
   "metadata": {},
   "outputs": [
    {
     "name": "stdout",
     "output_type": "stream",
     "text": [
      "['Age', 'Sex', 'ALB', 'ALP', 'ALT', 'AST', 'BIL', 'CHE', 'CHOL', 'CREA', 'GGT', 'PROT', 'Category']\n",
      "+---+---+----+----+----+----+----+-----+----+-----+----+----+-------------+\n",
      "|Age|Sex| ALB| ALP| ALT| AST| BIL|  CHE|CHOL| CREA| GGT|PROT|     Category|\n",
      "+---+---+----+----+----+----+----+-----+----+-----+----+----+-------------+\n",
      "| 32|  m|38.5|52.5| 7.7|22.1| 7.5| 6.93|3.23|106.0|12.1|  69|0=Blood Donor|\n",
      "| 32|  m|38.5|70.3|  18|24.7| 3.9|11.17| 4.8| 74.0|15.6|76.5|0=Blood Donor|\n",
      "| 32|  m|46.9|74.7|36.2|52.6| 6.1| 8.84| 5.2| 86.0|33.2|79.3|0=Blood Donor|\n",
      "| 32|  m|43.2|  52|30.6|22.6|18.9| 7.33|4.74| 80.0|33.8|75.7|0=Blood Donor|\n",
      "| 32|  m|39.2|74.1|32.6|24.8| 9.6| 9.15|4.32| 76.0|29.9|68.7|0=Blood Donor|\n",
      "| 32|  m|41.6|43.3|18.5|19.7|12.3| 9.92|6.05|111.0|91.0|  74|0=Blood Donor|\n",
      "| 32|  m|46.3|41.3|17.5|17.8| 8.5| 7.01|4.79| 70.0|16.9|74.5|0=Blood Donor|\n",
      "| 32|  m|42.2|41.9|35.8|31.1|16.1| 5.82| 4.6|109.0|21.5|67.1|0=Blood Donor|\n",
      "| 32|  m|50.9|65.5|23.2|21.2| 6.9| 8.69| 4.1| 83.0|13.7|71.3|0=Blood Donor|\n",
      "| 32|  m|42.4|86.3|20.3|20.0|35.2| 5.46|4.45| 81.0|15.9|69.9|0=Blood Donor|\n",
      "| 32|  m|44.3|52.3|21.7|22.4|17.2| 4.15|3.57| 78.0|24.1|75.4|0=Blood Donor|\n",
      "| 33|  m|46.4|68.2|10.3|20.0| 5.7| 7.36| 4.3| 79.0|18.7|68.6|0=Blood Donor|\n",
      "| 33|  m|36.3|78.6|23.6|22.0| 7.0| 8.56|5.38| 78.0|19.4|68.7|0=Blood Donor|\n",
      "| 33|  m|  39|51.7|15.9|24.0| 6.8| 6.46|3.38| 65.0| 7.0|70.4|0=Blood Donor|\n",
      "| 33|  m|38.7|39.8|22.5|23.0| 4.1| 4.63|4.97| 63.0|15.2|71.9|0=Blood Donor|\n",
      "| 33|  m|41.8|  65|33.1|38.0| 6.6| 8.83|4.43| 71.0|24.0|72.7|0=Blood Donor|\n",
      "| 33|  m|40.9|  73|17.2|22.9|10.0| 6.98|5.22| 90.0|14.7|72.4|0=Blood Donor|\n",
      "| 33|  m|45.2|88.3|32.4|31.2|10.1| 9.78|5.51|102.0|48.5|76.5|0=Blood Donor|\n",
      "| 33|  m|36.6|57.1|38.9|40.3|24.9| 9.62| 5.5|112.0|27.6|69.3|0=Blood Donor|\n",
      "| 33|  m|  42|63.1|32.6|34.9|11.2| 7.01|4.05|105.0|19.1|68.1|0=Blood Donor|\n",
      "+---+---+----+----+----+----+----+-----+----+-----+----+----+-------------+\n",
      "only showing top 20 rows\n",
      "\n",
      "+-------+------------------+----+-----------------+------------------+------------------+-----------------+------------------+------------------+------------------+-----------------+-----------------+-----------------+-------------+\n",
      "|summary|               Age| Sex|              ALB|               ALP|               ALT|              AST|               BIL|               CHE|              CHOL|             CREA|              GGT|             PROT|     Category|\n",
      "+-------+------------------+----+-----------------+------------------+------------------+-----------------+------------------+------------------+------------------+-----------------+-----------------+-----------------+-------------+\n",
      "|  count|               615| 615|              615|               615|               615|              615|               615|               615|               615|              615|              615|              615|          615|\n",
      "|   mean| 47.40813008130081|null|41.62019543973941| 68.28391959798999| 28.45081433224754|34.78634146341462|11.396747967479675| 8.196634146341458| 5.368099173553719|81.28780487804877|39.53317073170732|72.04413680781768|         null|\n",
      "| stddev|10.055105445519239|null|5.780629404103076|26.028315300123676|25.469688813870942|33.09069033855156|19.673149805846588|2.2056572704292927|1.1327284311597354|49.75616601234976|54.66107123891245|5.402635737104955|         null|\n",
      "|    min|                19|   f|             14.9|             100.4|               0.9|             10.6|               0.8|              1.42|              1.43|              8.0|              4.5|             44.8|0=Blood Donor|\n",
      "|    max|                77|   m|               NA|                NA|                NA|            324.0|             254.0|             16.41|                NA|           1079.1|            650.9|               NA|  3=Cirrhosis|\n",
      "+-------+------------------+----+-----------------+------------------+------------------+-----------------+------------------+------------------+------------------+-----------------+-----------------+-----------------+-------------+\n",
      "\n",
      "+--------------------+-----+\n",
      "|            Category|count|\n",
      "+--------------------+-----+\n",
      "|       0=Blood Donor|  533|\n",
      "|         3=Cirrhosis|   30|\n",
      "|          2=Fibrosis|   21|\n",
      "|0s=suspect Blood ...|    7|\n",
      "|         1=Hepatitis|   24|\n",
      "+--------------------+-----+\n",
      "\n"
     ]
    }
   ],
   "source": [
    "df=df.select('Age', 'Sex', 'ALB', 'ALP', 'ALT', 'AST', 'BIL', 'CHE', 'CHOL', 'CREA', 'GGT', 'PROT', 'Category')\n",
    "print(df.columns)\n",
    "df.show()\n",
    "#print(printSchema)\n",
    "df.describe().show()\n",
    "df.groupby('Category').count().show()"
   ]
  },
  {
   "cell_type": "code",
   "execution_count": 80,
   "id": "3350fb65",
   "metadata": {},
   "outputs": [
    {
     "data": {
      "text/plain": [
       "0=Blood Donor             533\n",
       "3=Cirrhosis                30\n",
       "1=Hepatitis                24\n",
       "2=Fibrosis                 21\n",
       "0s=suspect Blood Donor      7\n",
       "Name: Category, dtype: int64"
      ]
     },
     "execution_count": 80,
     "metadata": {},
     "output_type": "execute_result"
    }
   ],
   "source": [
    "df.toPandas()[\"Category\"].value_counts()"
   ]
  },
  {
   "cell_type": "code",
   "execution_count": 81,
   "id": "1cef56d3",
   "metadata": {},
   "outputs": [
    {
     "name": "stdout",
     "output_type": "stream",
     "text": [
      "root\n",
      " |-- Age: integer (nullable = true)\n",
      " |-- Sex: string (nullable = true)\n",
      " |-- ALB: string (nullable = true)\n",
      " |-- ALP: string (nullable = true)\n",
      " |-- ALT: string (nullable = true)\n",
      " |-- AST: double (nullable = true)\n",
      " |-- BIL: double (nullable = true)\n",
      " |-- CHE: double (nullable = true)\n",
      " |-- CHOL: string (nullable = true)\n",
      " |-- CREA: double (nullable = true)\n",
      " |-- GGT: double (nullable = true)\n",
      " |-- PROT: string (nullable = true)\n",
      " |-- Category: string (nullable = true)\n",
      "\n",
      "+---+---+----+----+----+----+----+-----+----+-----+----+----+-------------+\n",
      "|Age|Sex| ALB| ALP| ALT| AST| BIL|  CHE|CHOL| CREA| GGT|PROT|     Category|\n",
      "+---+---+----+----+----+----+----+-----+----+-----+----+----+-------------+\n",
      "| 32|  m|38.5|52.5| 7.7|22.1| 7.5| 6.93|3.23|106.0|12.1|  69|0=Blood Donor|\n",
      "| 32|  m|38.5|70.3|  18|24.7| 3.9|11.17| 4.8| 74.0|15.6|76.5|0=Blood Donor|\n",
      "| 32|  m|46.9|74.7|36.2|52.6| 6.1| 8.84| 5.2| 86.0|33.2|79.3|0=Blood Donor|\n",
      "| 32|  m|43.2|  52|30.6|22.6|18.9| 7.33|4.74| 80.0|33.8|75.7|0=Blood Donor|\n",
      "| 32|  m|39.2|74.1|32.6|24.8| 9.6| 9.15|4.32| 76.0|29.9|68.7|0=Blood Donor|\n",
      "+---+---+----+----+----+----+----+-----+----+-----+----+----+-------------+\n",
      "only showing top 5 rows\n",
      "\n",
      "+-------+------------------+----+-----------------+------------------+------------------+-----------------+------------------+------------------+------------------+-----------------+-----------------+-----------------+-------------+\n",
      "|summary|               Age| Sex|              ALB|               ALP|               ALT|              AST|               BIL|               CHE|              CHOL|             CREA|              GGT|             PROT|     Category|\n",
      "+-------+------------------+----+-----------------+------------------+------------------+-----------------+------------------+------------------+------------------+-----------------+-----------------+-----------------+-------------+\n",
      "|  count|               615| 615|              615|               615|               615|              615|               615|               615|               615|              615|              615|              615|          615|\n",
      "|   mean| 47.40813008130081|null|41.62019543973941| 68.28391959798999| 28.45081433224754|34.78634146341462|11.396747967479675| 8.196634146341458| 5.368099173553719|81.28780487804877|39.53317073170732|72.04413680781768|         null|\n",
      "| stddev|10.055105445519239|null|5.780629404103076|26.028315300123676|25.469688813870942|33.09069033855156|19.673149805846588|2.2056572704292927|1.1327284311597354|49.75616601234976|54.66107123891245|5.402635737104955|         null|\n",
      "|    min|                19|   f|             14.9|             100.4|               0.9|             10.6|               0.8|              1.42|              1.43|              8.0|              4.5|             44.8|0=Blood Donor|\n",
      "|    max|                77|   m|               NA|                NA|                NA|            324.0|             254.0|             16.41|                NA|           1079.1|            650.9|               NA|  3=Cirrhosis|\n",
      "+-------+------------------+----+-----------------+------------------+------------------+-----------------+------------------+------------------+------------------+-----------------+-----------------+-----------------+-------------+\n",
      "\n",
      "None\n"
     ]
    }
   ],
   "source": [
    "df.dtypes\n",
    "df.printSchema()\n",
    "df.show(5)\n",
    "print(df.describe().show())"
   ]
  },
  {
   "cell_type": "code",
   "execution_count": 82,
   "id": "b0870199",
   "metadata": {},
   "outputs": [
    {
     "name": "stdout",
     "output_type": "stream",
     "text": [
      "+--------------------+-----+\n",
      "|            Category|count|\n",
      "+--------------------+-----+\n",
      "|       0=Blood Donor|  533|\n",
      "|         3=Cirrhosis|   30|\n",
      "|          2=Fibrosis|   21|\n",
      "|0s=suspect Blood ...|    7|\n",
      "|         1=Hepatitis|   24|\n",
      "+--------------------+-----+\n",
      "\n"
     ]
    }
   ],
   "source": [
    "df.groupby(\"Category\").count().show()"
   ]
  },
  {
   "cell_type": "markdown",
   "id": "544c4be0",
   "metadata": {},
   "source": [
    "### Model build steps\n",
    "+ Numerical encoding\n",
    "+ Feature Engineering/Vectorizaton \n",
    "+ Scaling the data"
   ]
  },
  {
   "cell_type": "code",
   "execution_count": 83,
   "id": "120ce4bb",
   "metadata": {},
   "outputs": [
    {
     "name": "stdout",
     "output_type": "stream",
     "text": [
      "['Estimator', 'Model', 'Pipeline', 'PipelineModel', 'PredictionModel', 'Predictor', 'TorchDistributor', 'Transformer', 'UnaryTransformer', '__all__', '__builtins__', '__cached__', '__doc__', '__file__', '__loader__', '__name__', '__package__', '__path__', '__spec__', 'base', 'classification', 'clustering', 'common', 'evaluation', 'feature', 'fpm', 'image', 'linalg', 'param', 'pipeline', 'recommendation', 'regression', 'stat', 'torch', 'tree', 'tuning', 'util', 'wrapper']\n"
     ]
    }
   ],
   "source": [
    "import pyspark.ml\n",
    "print(dir(pyspark.ml))"
   ]
  },
  {
   "cell_type": "code",
   "execution_count": 84,
   "id": "ad2d932c",
   "metadata": {},
   "outputs": [
    {
     "name": "stdout",
     "output_type": "stream",
     "text": [
      "+--------------------+\n",
      "|            Category|\n",
      "+--------------------+\n",
      "|       0=Blood Donor|\n",
      "|         3=Cirrhosis|\n",
      "|          2=Fibrosis|\n",
      "|0s=suspect Blood ...|\n",
      "|         1=Hepatitis|\n",
      "+--------------------+\n",
      "\n"
     ]
    }
   ],
   "source": [
    "from pyspark.ml.feature import VectorAssembler, StringIndexer \n",
    "df.columns\n",
    "df.select(\"Category\").distinct().show()"
   ]
  },
  {
   "cell_type": "code",
   "execution_count": 85,
   "id": "e63e8a93",
   "metadata": {},
   "outputs": [
    {
     "name": "stdout",
     "output_type": "stream",
     "text": [
      "StringIndexerModel: uid=StringIndexer_cfd1cff9f7d2, handleInvalid=error\n"
     ]
    }
   ],
   "source": [
    "import os\n",
    "import sys\n",
    "\n",
    "from pyspark.sql import SQLContext\n",
    "#from pyspark.mllib.linalg import Vectors\n",
    "from pyspark.ml.linalg import Vectors, VectorUDT\n",
    "\n",
    "os.environ['PYSPARK_PYTHON'] = sys.executable\n",
    "os.environ['PYSPARK_DRIVER_PYTHON'] = sys.executable\n",
    "#! pip install findspark\n",
    "import findspark\n",
    "findspark.init()\n",
    "# .config(\"spark.memory.offHeap.enabled\",\"true\") \n",
    "# .config(\"spark.memory.offHeap.size\",\"10g\")\n",
    "    \n",
    "genderencoder= StringIndexer(inputCol=\"Sex\", outputCol=\"GenderClass\").fit(df)\n",
    "print(genderencoder)"
   ]
  },
  {
   "cell_type": "code",
   "execution_count": 88,
   "id": "7889c1a7",
   "metadata": {},
   "outputs": [
    {
     "name": "stdout",
     "output_type": "stream",
     "text": [
      "+---+---+----+----+----+----+----+-----+----+-----+----+----+-------------+\n",
      "|Age|Sex| ALB| ALP| ALT| AST| BIL|  CHE|CHOL| CREA| GGT|PROT|     Category|\n",
      "+---+---+----+----+----+----+----+-----+----+-----+----+----+-------------+\n",
      "| 32|  m|38.5|52.5| 7.7|22.1| 7.5| 6.93|3.23|106.0|12.1|  69|0=Blood Donor|\n",
      "| 32|  m|38.5|70.3|  18|24.7| 3.9|11.17| 4.8| 74.0|15.6|76.5|0=Blood Donor|\n",
      "| 32|  m|46.9|74.7|36.2|52.6| 6.1| 8.84| 5.2| 86.0|33.2|79.3|0=Blood Donor|\n",
      "| 32|  m|43.2|  52|30.6|22.6|18.9| 7.33|4.74| 80.0|33.8|75.7|0=Blood Donor|\n",
      "| 32|  m|39.2|74.1|32.6|24.8| 9.6| 9.15|4.32| 76.0|29.9|68.7|0=Blood Donor|\n",
      "+---+---+----+----+----+----+----+-----+----+-----+----+----+-------------+\n",
      "only showing top 5 rows\n",
      "\n",
      "None\n"
     ]
    }
   ],
   "source": [
    "print(df.show(5))"
   ]
  },
  {
   "cell_type": "code",
   "execution_count": 89,
   "id": "2a3cb13f",
   "metadata": {},
   "outputs": [
    {
     "name": "stdout",
     "output_type": "stream",
     "text": [
      "+---+---+----+----+----+----+----+-----+----+-----+----+----+-------------+-----------+\n",
      "|Age|Sex| ALB| ALP| ALT| AST| BIL|  CHE|CHOL| CREA| GGT|PROT|     Category|GenderClass|\n",
      "+---+---+----+----+----+----+----+-----+----+-----+----+----+-------------+-----------+\n",
      "| 32|  m|38.5|52.5| 7.7|22.1| 7.5| 6.93|3.23|106.0|12.1|  69|0=Blood Donor|        0.0|\n",
      "| 32|  m|38.5|70.3|  18|24.7| 3.9|11.17| 4.8| 74.0|15.6|76.5|0=Blood Donor|        0.0|\n",
      "| 32|  m|46.9|74.7|36.2|52.6| 6.1| 8.84| 5.2| 86.0|33.2|79.3|0=Blood Donor|        0.0|\n",
      "| 32|  m|43.2|  52|30.6|22.6|18.9| 7.33|4.74| 80.0|33.8|75.7|0=Blood Donor|        0.0|\n",
      "| 32|  m|39.2|74.1|32.6|24.8| 9.6| 9.15|4.32| 76.0|29.9|68.7|0=Blood Donor|        0.0|\n",
      "+---+---+----+----+----+----+----+-----+----+-----+----+----+-------------+-----------+\n",
      "only showing top 5 rows\n",
      "\n",
      "None\n"
     ]
    }
   ],
   "source": [
    "df=genderencoder.transform(df)\n",
    "print(df.show(5))"
   ]
  },
  {
   "cell_type": "code",
   "execution_count": 139,
   "id": "a52e16f8",
   "metadata": {},
   "outputs": [
    {
     "data": {
      "text/plain": [
       "[('Age', 'int'),\n",
       " ('Sex', 'string'),\n",
       " ('ALB', 'string'),\n",
       " ('ALP', 'string'),\n",
       " ('ALT', 'string'),\n",
       " ('AST', 'double'),\n",
       " ('BIL', 'double'),\n",
       " ('CHE', 'double'),\n",
       " ('CHOL', 'string'),\n",
       " ('CREA', 'double'),\n",
       " ('GGT', 'double'),\n",
       " ('PROT', 'string'),\n",
       " ('Category', 'string'),\n",
       " ('GenderClass', 'double'),\n",
       " ('Target', 'double'),\n",
       " ('TargetEncoding', 'string')]"
      ]
     },
     "execution_count": 139,
     "metadata": {},
     "output_type": "execute_result"
    }
   ],
   "source": [
    "df.dtypes"
   ]
  },
  {
   "cell_type": "code",
   "execution_count": 90,
   "id": "bdc91605",
   "metadata": {},
   "outputs": [
    {
     "name": "stdout",
     "output_type": "stream",
     "text": [
      "+---+---+----+----+----+----+----+-----+----+-----+----+----+-------------+-----------+------+\n",
      "|Age|Sex| ALB| ALP| ALT| AST| BIL|  CHE|CHOL| CREA| GGT|PROT|     Category|GenderClass|Target|\n",
      "+---+---+----+----+----+----+----+-----+----+-----+----+----+-------------+-----------+------+\n",
      "| 32|  m|38.5|52.5| 7.7|22.1| 7.5| 6.93|3.23|106.0|12.1|  69|0=Blood Donor|        0.0|   0.0|\n",
      "| 32|  m|38.5|70.3|  18|24.7| 3.9|11.17| 4.8| 74.0|15.6|76.5|0=Blood Donor|        0.0|   0.0|\n",
      "| 32|  m|46.9|74.7|36.2|52.6| 6.1| 8.84| 5.2| 86.0|33.2|79.3|0=Blood Donor|        0.0|   0.0|\n",
      "| 32|  m|43.2|  52|30.6|22.6|18.9| 7.33|4.74| 80.0|33.8|75.7|0=Blood Donor|        0.0|   0.0|\n",
      "| 32|  m|39.2|74.1|32.6|24.8| 9.6| 9.15|4.32| 76.0|29.9|68.7|0=Blood Donor|        0.0|   0.0|\n",
      "+---+---+----+----+----+----+----+-----+----+-----+----+----+-------------+-----------+------+\n",
      "only showing top 5 rows\n",
      "\n",
      "None\n"
     ]
    }
   ],
   "source": [
    "catencoder=  StringIndexer(inputCol=\"Category\", outputCol=\"Target\").fit(df)\n",
    "df=catencoder.transform(df)\n",
    "print(df.show(5))"
   ]
  },
  {
   "cell_type": "code",
   "execution_count": 92,
   "id": "2f0bab4d",
   "metadata": {},
   "outputs": [
    {
     "name": "stdout",
     "output_type": "stream",
     "text": [
      "+------+\n",
      "|Target|\n",
      "+------+\n",
      "|   0.0|\n",
      "|   1.0|\n",
      "|   4.0|\n",
      "|   3.0|\n",
      "|   2.0|\n",
      "+------+\n",
      "\n"
     ]
    },
    {
     "data": {
      "text/plain": [
       "['0=Blood Donor',\n",
       " '3=Cirrhosis',\n",
       " '1=Hepatitis',\n",
       " '2=Fibrosis',\n",
       " '0s=suspect Blood Donor']"
      ]
     },
     "execution_count": 92,
     "metadata": {},
     "output_type": "execute_result"
    }
   ],
   "source": [
    "df.select(\"Target\").distinct().show()\n",
    "catencoder.labels"
   ]
  },
  {
   "cell_type": "code",
   "execution_count": 95,
   "id": "2ecbfcdd",
   "metadata": {},
   "outputs": [
    {
     "name": "stdout",
     "output_type": "stream",
     "text": [
      "+---+---+----+----+----+----+----+-----+----+-----+----+----+-------------+-----------+------+--------------+\n",
      "|Age|Sex| ALB| ALP| ALT| AST| BIL|  CHE|CHOL| CREA| GGT|PROT|     Category|GenderClass|Target|TargetEncoding|\n",
      "+---+---+----+----+----+----+----+-----+----+-----+----+----+-------------+-----------+------+--------------+\n",
      "| 32|  m|38.5|52.5| 7.7|22.1| 7.5| 6.93|3.23|106.0|12.1|  69|0=Blood Donor|        0.0|   0.0| 0=Blood Donor|\n",
      "| 32|  m|38.5|70.3|  18|24.7| 3.9|11.17| 4.8| 74.0|15.6|76.5|0=Blood Donor|        0.0|   0.0| 0=Blood Donor|\n",
      "| 32|  m|46.9|74.7|36.2|52.6| 6.1| 8.84| 5.2| 86.0|33.2|79.3|0=Blood Donor|        0.0|   0.0| 0=Blood Donor|\n",
      "| 32|  m|43.2|  52|30.6|22.6|18.9| 7.33|4.74| 80.0|33.8|75.7|0=Blood Donor|        0.0|   0.0| 0=Blood Donor|\n",
      "| 32|  m|39.2|74.1|32.6|24.8| 9.6| 9.15|4.32| 76.0|29.9|68.7|0=Blood Donor|        0.0|   0.0| 0=Blood Donor|\n",
      "+---+---+----+----+----+----+----+-----+----+-----+----+----+-------------+-----------+------+--------------+\n",
      "only showing top 5 rows\n",
      "\n",
      "None\n"
     ]
    }
   ],
   "source": [
    "from pyspark.ml.feature import IndexToString\n",
    "targetEncode= IndexToString(inputCol=\"Target\", outputCol=\"TargetEncoding\")\n",
    "df=targetEncode.transform(df)\n",
    "print(df.show(5))"
   ]
  },
  {
   "cell_type": "code",
   "execution_count": 150,
   "id": "35279d58",
   "metadata": {},
   "outputs": [
    {
     "name": "stdout",
     "output_type": "stream",
     "text": [
      "['Age', 'Sex', 'ALB', 'ALP', 'ALT', 'AST', 'BIL', 'CHE', 'CHOL', 'CREA', 'GGT', 'PROT', 'Category', 'GenderClass', 'Target', 'TargetEncoding']\n",
      "+-----------+---+---+----+----+----+----+----+-----+----+-----+----+----+-------------+------+\n",
      "|GenderClass|Age|Sex| ALB| ALP| ALT| AST| BIL|  CHE|CHOL| CREA| GGT|PROT|     Category|Target|\n",
      "+-----------+---+---+----+----+----+----+----+-----+----+-----+----+----+-------------+------+\n",
      "|        0.0| 32|  m|38.5|52.5| 7.7|22.1| 7.5| 6.93|3.23|106.0|12.1|  69|0=Blood Donor|   0.0|\n",
      "|        0.0| 32|  m|38.5|70.3|  18|24.7| 3.9|11.17| 4.8| 74.0|15.6|76.5|0=Blood Donor|   0.0|\n",
      "|        0.0| 32|  m|46.9|74.7|36.2|52.6| 6.1| 8.84| 5.2| 86.0|33.2|79.3|0=Blood Donor|   0.0|\n",
      "|        0.0| 32|  m|43.2|  52|30.6|22.6|18.9| 7.33|4.74| 80.0|33.8|75.7|0=Blood Donor|   0.0|\n",
      "|        0.0| 32|  m|39.2|74.1|32.6|24.8| 9.6| 9.15|4.32| 76.0|29.9|68.7|0=Blood Donor|   0.0|\n",
      "+-----------+---+---+----+----+----+----+----+-----+----+-----+----+----+-------------+------+\n",
      "only showing top 5 rows\n",
      "\n",
      "['GenderClass', 'Age', 'ALB', 'ALP', 'ALT', 'AST', 'BIL', 'CHE', 'CHOL', 'CREA', 'GGT', 'PROT', 'Target']\n"
     ]
    }
   ],
   "source": [
    "print(df.columns)\n",
    "required_fs= df.select('GenderClass','Age', 'Sex', 'ALB', 'ALP', 'ALT', 'AST', 'BIL', 'CHE', 'CHOL', 'CREA', 'GGT', 'PROT', 'Category',  'Target')\n",
    "required_fs.show(5)\n",
    "required_fs_list = ['GenderClass','Age', 'ALB', 'ALP', 'ALT', 'AST', 'BIL', 'CHE', 'CHOL', 'CREA', 'GGT', 'PROT',  'Target']\n",
    "print(required_fs_list)"
   ]
  },
  {
   "cell_type": "code",
   "execution_count": 141,
   "id": "8653a5d7",
   "metadata": {},
   "outputs": [
    {
     "name": "stdout",
     "output_type": "stream",
     "text": [
      "+-----------+---+----+----+----+----+----+-----+----+-----+----+----+------+\n",
      "|GenderClass|Age| ALB| ALP| ALT| AST| BIL|  CHE|CHOL| CREA| GGT|PROT|Target|\n",
      "+-----------+---+----+----+----+----+----+-----+----+-----+----+----+------+\n",
      "|        0.0| 32|38.5|52.5| 7.7|22.1| 7.5| 6.93|3.23|106.0|12.1|  69|   0.0|\n",
      "|        0.0| 32|38.5|70.3|  18|24.7| 3.9|11.17| 4.8| 74.0|15.6|76.5|   0.0|\n",
      "|        0.0| 32|46.9|74.7|36.2|52.6| 6.1| 8.84| 5.2| 86.0|33.2|79.3|   0.0|\n",
      "|        0.0| 32|43.2|  52|30.6|22.6|18.9| 7.33|4.74| 80.0|33.8|75.7|   0.0|\n",
      "|        0.0| 32|39.2|74.1|32.6|24.8| 9.6| 9.15|4.32| 76.0|29.9|68.7|   0.0|\n",
      "|        0.0| 32|41.6|43.3|18.5|19.7|12.3| 9.92|6.05|111.0|91.0|  74|   0.0|\n",
      "|        0.0| 32|46.3|41.3|17.5|17.8| 8.5| 7.01|4.79| 70.0|16.9|74.5|   0.0|\n",
      "|        0.0| 32|42.2|41.9|35.8|31.1|16.1| 5.82| 4.6|109.0|21.5|67.1|   0.0|\n",
      "|        0.0| 32|50.9|65.5|23.2|21.2| 6.9| 8.69| 4.1| 83.0|13.7|71.3|   0.0|\n",
      "|        0.0| 32|42.4|86.3|20.3|20.0|35.2| 5.46|4.45| 81.0|15.9|69.9|   0.0|\n",
      "|        0.0| 32|44.3|52.3|21.7|22.4|17.2| 4.15|3.57| 78.0|24.1|75.4|   0.0|\n",
      "|        0.0| 33|46.4|68.2|10.3|20.0| 5.7| 7.36| 4.3| 79.0|18.7|68.6|   0.0|\n",
      "|        0.0| 33|36.3|78.6|23.6|22.0| 7.0| 8.56|5.38| 78.0|19.4|68.7|   0.0|\n",
      "|        0.0| 33|  39|51.7|15.9|24.0| 6.8| 6.46|3.38| 65.0| 7.0|70.4|   0.0|\n",
      "|        0.0| 33|38.7|39.8|22.5|23.0| 4.1| 4.63|4.97| 63.0|15.2|71.9|   0.0|\n",
      "|        0.0| 33|41.8|  65|33.1|38.0| 6.6| 8.83|4.43| 71.0|24.0|72.7|   0.0|\n",
      "|        0.0| 33|40.9|  73|17.2|22.9|10.0| 6.98|5.22| 90.0|14.7|72.4|   0.0|\n",
      "|        0.0| 33|45.2|88.3|32.4|31.2|10.1| 9.78|5.51|102.0|48.5|76.5|   0.0|\n",
      "|        0.0| 33|36.6|57.1|38.9|40.3|24.9| 9.62| 5.5|112.0|27.6|69.3|   0.0|\n",
      "|        0.0| 33|  42|63.1|32.6|34.9|11.2| 7.01|4.05|105.0|19.1|68.1|   0.0|\n",
      "+-----------+---+----+----+----+----+----+-----+----+-----+----+----+------+\n",
      "only showing top 20 rows\n",
      "\n",
      "   GenderClass   Age   ALB   ALP   ALT   AST   BIL    CHE  CHOL   CREA   GGT  \\\n",
      "0          0.0  32.0  38.5  52.5   7.7  22.1   7.5   6.93  3.23  106.0  12.1   \n",
      "1          0.0  32.0  38.5  70.3  18.0  24.7   3.9  11.17  4.80   74.0  15.6   \n",
      "2          0.0  32.0  46.9  74.7  36.2  52.6   6.1   8.84  5.20   86.0  33.2   \n",
      "3          0.0  32.0  43.2  52.0  30.6  22.6  18.9   7.33  4.74   80.0  33.8   \n",
      "4          0.0  32.0  39.2  74.1  32.6  24.8   9.6   9.15  4.32   76.0  29.9   \n",
      "\n",
      "   PROT  Target  \n",
      "0  69.0     0.0  \n",
      "1  76.5     0.0  \n",
      "2  79.3     0.0  \n",
      "3  75.7     0.0  \n",
      "4  68.7     0.0  \n"
     ]
    },
    {
     "data": {
      "text/plain": [
       "GenderClass    float64\n",
       "Age            float64\n",
       "ALB            float64\n",
       "ALP            float64\n",
       "ALT            float64\n",
       "AST            float64\n",
       "BIL            float64\n",
       "CHE            float64\n",
       "CHOL           float64\n",
       "CREA           float64\n",
       "GGT            float64\n",
       "PROT           float64\n",
       "Target         float64\n",
       "dtype: object"
      ]
     },
     "execution_count": 141,
     "metadata": {},
     "output_type": "execute_result"
    }
   ],
   "source": [
    "df2=df.select('GenderClass','Age',  'ALB', 'ALP', 'ALT', 'AST', 'BIL', 'CHE', 'CHOL', 'CREA', 'GGT', 'PROT',   'Target')\n",
    "####### remove Sex, 'Category',\n",
    "df2.show()\n",
    "df2=df2.toPandas().replace(\"NA\",0).astype(float)\n",
    "print(df2.head(5))\n",
    "df2.dtypes\n",
    "# df_vect= VectorAssembler(inputCols=required_fs, outputCol=\"features\")\n",
    "# print(df_vect.show(10))"
   ]
  },
  {
   "cell_type": "code",
   "execution_count": 142,
   "id": "3a36d174",
   "metadata": {},
   "outputs": [
    {
     "name": "stdout",
     "output_type": "stream",
     "text": [
      "   GenderClass   Age   ALB   ALP   ALT   AST   BIL    CHE  CHOL   CREA   GGT  \\\n",
      "0          0.0  32.0  38.5  52.5   7.7  22.1   7.5   6.93  3.23  106.0  12.1   \n",
      "1          0.0  32.0  38.5  70.3  18.0  24.7   3.9  11.17  4.80   74.0  15.6   \n",
      "2          0.0  32.0  46.9  74.7  36.2  52.6   6.1   8.84  5.20   86.0  33.2   \n",
      "3          0.0  32.0  43.2  52.0  30.6  22.6  18.9   7.33  4.74   80.0  33.8   \n",
      "4          0.0  32.0  39.2  74.1  32.6  24.8   9.6   9.15  4.32   76.0  29.9   \n",
      "5          0.0  32.0  41.6  43.3  18.5  19.7  12.3   9.92  6.05  111.0  91.0   \n",
      "6          0.0  32.0  46.3  41.3  17.5  17.8   8.5   7.01  4.79   70.0  16.9   \n",
      "7          0.0  32.0  42.2  41.9  35.8  31.1  16.1   5.82  4.60  109.0  21.5   \n",
      "8          0.0  32.0  50.9  65.5  23.2  21.2   6.9   8.69  4.10   83.0  13.7   \n",
      "9          0.0  32.0  42.4  86.3  20.3  20.0  35.2   5.46  4.45   81.0  15.9   \n",
      "\n",
      "   PROT  Target  \n",
      "0  69.0     0.0  \n",
      "1  76.5     0.0  \n",
      "2  79.3     0.0  \n",
      "3  75.7     0.0  \n",
      "4  68.7     0.0  \n",
      "5  74.0     0.0  \n",
      "6  74.5     0.0  \n",
      "7  67.1     0.0  \n",
      "8  71.3     0.0  \n",
      "9  69.9     0.0  \n"
     ]
    },
    {
     "data": {
      "text/plain": [
       "pandas.core.frame.DataFrame"
      ]
     },
     "execution_count": 142,
     "metadata": {},
     "output_type": "execute_result"
    }
   ],
   "source": [
    "print(df2.head(10))\n",
    "df2.dtypes\n",
    "type(df2)"
   ]
  },
  {
   "cell_type": "code",
   "execution_count": 143,
   "id": "fb3427c6",
   "metadata": {},
   "outputs": [
    {
     "data": {
      "text/plain": [
       "pandas.core.frame.DataFrame"
      ]
     },
     "execution_count": 143,
     "metadata": {},
     "output_type": "execute_result"
    }
   ],
   "source": [
    "#df2=df2.astype(float)\n",
    "type(df2)"
   ]
  },
  {
   "cell_type": "code",
   "execution_count": 144,
   "id": "3d16073e",
   "metadata": {},
   "outputs": [
    {
     "name": "stdout",
     "output_type": "stream",
     "text": [
      "+-----------+----+----+----+----+----+----+-----+----+-----+----+----+------+\n",
      "|GenderClass| Age| ALB| ALP| ALT| AST| BIL|  CHE|CHOL| CREA| GGT|PROT|Target|\n",
      "+-----------+----+----+----+----+----+----+-----+----+-----+----+----+------+\n",
      "|        0.0|32.0|38.5|52.5| 7.7|22.1| 7.5| 6.93|3.23|106.0|12.1|69.0|   0.0|\n",
      "|        0.0|32.0|38.5|70.3|18.0|24.7| 3.9|11.17| 4.8| 74.0|15.6|76.5|   0.0|\n",
      "|        0.0|32.0|46.9|74.7|36.2|52.6| 6.1| 8.84| 5.2| 86.0|33.2|79.3|   0.0|\n",
      "|        0.0|32.0|43.2|52.0|30.6|22.6|18.9| 7.33|4.74| 80.0|33.8|75.7|   0.0|\n",
      "|        0.0|32.0|39.2|74.1|32.6|24.8| 9.6| 9.15|4.32| 76.0|29.9|68.7|   0.0|\n",
      "|        0.0|32.0|41.6|43.3|18.5|19.7|12.3| 9.92|6.05|111.0|91.0|74.0|   0.0|\n",
      "|        0.0|32.0|46.3|41.3|17.5|17.8| 8.5| 7.01|4.79| 70.0|16.9|74.5|   0.0|\n",
      "|        0.0|32.0|42.2|41.9|35.8|31.1|16.1| 5.82| 4.6|109.0|21.5|67.1|   0.0|\n",
      "|        0.0|32.0|50.9|65.5|23.2|21.2| 6.9| 8.69| 4.1| 83.0|13.7|71.3|   0.0|\n",
      "|        0.0|32.0|42.4|86.3|20.3|20.0|35.2| 5.46|4.45| 81.0|15.9|69.9|   0.0|\n",
      "|        0.0|32.0|44.3|52.3|21.7|22.4|17.2| 4.15|3.57| 78.0|24.1|75.4|   0.0|\n",
      "|        0.0|33.0|46.4|68.2|10.3|20.0| 5.7| 7.36| 4.3| 79.0|18.7|68.6|   0.0|\n",
      "|        0.0|33.0|36.3|78.6|23.6|22.0| 7.0| 8.56|5.38| 78.0|19.4|68.7|   0.0|\n",
      "|        0.0|33.0|39.0|51.7|15.9|24.0| 6.8| 6.46|3.38| 65.0| 7.0|70.4|   0.0|\n",
      "|        0.0|33.0|38.7|39.8|22.5|23.0| 4.1| 4.63|4.97| 63.0|15.2|71.9|   0.0|\n",
      "|        0.0|33.0|41.8|65.0|33.1|38.0| 6.6| 8.83|4.43| 71.0|24.0|72.7|   0.0|\n",
      "|        0.0|33.0|40.9|73.0|17.2|22.9|10.0| 6.98|5.22| 90.0|14.7|72.4|   0.0|\n",
      "|        0.0|33.0|45.2|88.3|32.4|31.2|10.1| 9.78|5.51|102.0|48.5|76.5|   0.0|\n",
      "|        0.0|33.0|36.6|57.1|38.9|40.3|24.9| 9.62| 5.5|112.0|27.6|69.3|   0.0|\n",
      "|        0.0|33.0|42.0|63.1|32.6|34.9|11.2| 7.01|4.05|105.0|19.1|68.1|   0.0|\n",
      "+-----------+----+----+----+----+----+----+-----+----+-----+----+----+------+\n",
      "only showing top 20 rows\n",
      "\n"
     ]
    },
    {
     "data": {
      "text/plain": [
       "[('GenderClass', 'double'),\n",
       " ('Age', 'double'),\n",
       " ('ALB', 'double'),\n",
       " ('ALP', 'double'),\n",
       " ('ALT', 'double'),\n",
       " ('AST', 'double'),\n",
       " ('BIL', 'double'),\n",
       " ('CHE', 'double'),\n",
       " ('CHOL', 'double'),\n",
       " ('CREA', 'double'),\n",
       " ('GGT', 'double'),\n",
       " ('PROT', 'double'),\n",
       " ('Target', 'double')]"
      ]
     },
     "execution_count": 144,
     "metadata": {},
     "output_type": "execute_result"
    }
   ],
   "source": [
    "new_df= spark.createDataFrame(df2)\n",
    "new_df.show()\n",
    "new_df.dtypes"
   ]
  },
  {
   "cell_type": "code",
   "execution_count": 145,
   "id": "7e305802",
   "metadata": {},
   "outputs": [
    {
     "name": "stdout",
     "output_type": "stream",
     "text": [
      "root\n",
      " |-- GenderClass: double (nullable = true)\n",
      " |-- Age: double (nullable = true)\n",
      " |-- ALB: double (nullable = true)\n",
      " |-- ALP: double (nullable = true)\n",
      " |-- ALT: double (nullable = true)\n",
      " |-- AST: double (nullable = true)\n",
      " |-- BIL: double (nullable = true)\n",
      " |-- CHE: double (nullable = true)\n",
      " |-- CHOL: double (nullable = true)\n",
      " |-- CREA: double (nullable = true)\n",
      " |-- GGT: double (nullable = true)\n",
      " |-- PROT: double (nullable = true)\n",
      " |-- Target: double (nullable = true)\n",
      "\n"
     ]
    }
   ],
   "source": [
    "new_df.printSchema()"
   ]
  },
  {
   "cell_type": "code",
   "execution_count": 151,
   "id": "6283c7db",
   "metadata": {},
   "outputs": [],
   "source": [
    "Vect_assembler= VectorAssembler(inputCols=required_fs_list, outputCol='features')"
   ]
  },
  {
   "cell_type": "code",
   "execution_count": 152,
   "id": "0ba4683c",
   "metadata": {},
   "outputs": [],
   "source": [
    "new_df.dtypes\n",
    "vect_df= Vect_assembler.transform(new_df)"
   ]
  },
  {
   "cell_type": "code",
   "execution_count": 153,
   "id": "54a7839e",
   "metadata": {},
   "outputs": [
    {
     "name": "stdout",
     "output_type": "stream",
     "text": [
      "+-----------+----+----+----+----+----+----+-----+----+-----+----+----+------+--------------------+\n",
      "|GenderClass| Age| ALB| ALP| ALT| AST| BIL|  CHE|CHOL| CREA| GGT|PROT|Target|            features|\n",
      "+-----------+----+----+----+----+----+----+-----+----+-----+----+----+------+--------------------+\n",
      "|        0.0|32.0|38.5|52.5| 7.7|22.1| 7.5| 6.93|3.23|106.0|12.1|69.0|   0.0|[0.0,32.0,38.5,52...|\n",
      "|        0.0|32.0|38.5|70.3|18.0|24.7| 3.9|11.17| 4.8| 74.0|15.6|76.5|   0.0|[0.0,32.0,38.5,70...|\n",
      "|        0.0|32.0|46.9|74.7|36.2|52.6| 6.1| 8.84| 5.2| 86.0|33.2|79.3|   0.0|[0.0,32.0,46.9,74...|\n",
      "|        0.0|32.0|43.2|52.0|30.6|22.6|18.9| 7.33|4.74| 80.0|33.8|75.7|   0.0|[0.0,32.0,43.2,52...|\n",
      "|        0.0|32.0|39.2|74.1|32.6|24.8| 9.6| 9.15|4.32| 76.0|29.9|68.7|   0.0|[0.0,32.0,39.2,74...|\n",
      "+-----------+----+----+----+----+----+----+-----+----+-----+----+----+------+--------------------+\n",
      "only showing top 5 rows\n",
      "\n",
      "None\n"
     ]
    }
   ],
   "source": [
    "print(vect_df.show(5))"
   ]
  },
  {
   "cell_type": "code",
   "execution_count": 154,
   "id": "a50b1ffd",
   "metadata": {},
   "outputs": [
    {
     "name": "stdout",
     "output_type": "stream",
     "text": [
      "423 192\n"
     ]
    }
   ],
   "source": [
    "train_df, test_df = vect_df.randomSplit([0.7,0.3])\n",
    "print(train_df.count(), test_df.count())"
   ]
  },
  {
   "cell_type": "code",
   "execution_count": 160,
   "id": "48d7b01e",
   "metadata": {},
   "outputs": [],
   "source": [
    "from pyspark.ml.classification import LogisticRegression, DecisionTreeClassifier"
   ]
  },
  {
   "cell_type": "code",
   "execution_count": 164,
   "id": "7280aced",
   "metadata": {},
   "outputs": [],
   "source": [
    "lr_model= LogisticRegression(featuresCol='features', labelCol=\"Target\")"
   ]
  },
  {
   "cell_type": "code",
   "execution_count": 168,
   "id": "b2b6f09e",
   "metadata": {},
   "outputs": [],
   "source": [
    "lr_modelfit= lr_model.fit(train_df)"
   ]
  },
  {
   "cell_type": "code",
   "execution_count": 169,
   "id": "9e8e72bb",
   "metadata": {},
   "outputs": [
    {
     "name": "stdout",
     "output_type": "stream",
     "text": [
      "LogisticRegressionModel: uid=LogisticRegression_5de98e69b189, numClasses=5, numFeatures=13\n"
     ]
    }
   ],
   "source": [
    "print(lr_modelfit)"
   ]
  },
  {
   "cell_type": "code",
   "execution_count": 170,
   "id": "b84b2c13",
   "metadata": {},
   "outputs": [],
   "source": [
    "y_predict= lr_modelfit.transform(test_df)"
   ]
  },
  {
   "cell_type": "code",
   "execution_count": 171,
   "id": "546e61dc",
   "metadata": {},
   "outputs": [
    {
     "name": "stdout",
     "output_type": "stream",
     "text": [
      "+-----------+----+----+----+----+----+----+-----+----+-----+----+----+------+--------------------+--------------------+--------------------+----------+\n",
      "|GenderClass| Age| ALB| ALP| ALT| AST| BIL|  CHE|CHOL| CREA| GGT|PROT|Target|            features|       rawPrediction|         probability|prediction|\n",
      "+-----------+----+----+----+----+----+----+-----+----+-----+----+----+------+--------------------+--------------------+--------------------+----------+\n",
      "|        0.0|32.0|38.5|70.3|18.0|24.7| 3.9|11.17| 4.8| 74.0|15.6|76.5|   0.0|[0.0,32.0,38.5,70...|[157.531535727600...|[1.0,2.5263528636...|       0.0|\n",
      "|        0.0|32.0|39.2|74.1|32.6|24.8| 9.6| 9.15|4.32| 76.0|29.9|68.7|   0.0|[0.0,32.0,39.2,74...|[163.828038284955...|[1.0,2.9631407690...|       0.0|\n",
      "|        0.0|32.0|42.2|41.9|35.8|31.1|16.1| 5.82| 4.6|109.0|21.5|67.1|   0.0|[0.0,32.0,42.2,41...|[160.223611454770...|[1.0,3.0109555797...|       0.0|\n",
      "|        0.0|32.0|43.2|52.0|30.6|22.6|18.9| 7.33|4.74| 80.0|33.8|75.7|   0.0|[0.0,32.0,43.2,52...|[140.932259013422...|[1.0,2.5462974430...|       0.0|\n",
      "|        0.0|32.0|46.9|74.7|36.2|52.6| 6.1| 8.84| 5.2| 86.0|33.2|79.3|   0.0|[0.0,32.0,46.9,74...|[161.693773442523...|[1.0,2.5375762391...|       0.0|\n",
      "|        0.0|33.0|36.6|57.1|38.9|40.3|24.9| 9.62| 5.5|112.0|27.6|69.3|   0.0|[0.0,33.0,36.6,57...|[133.311677689785...|[1.0,7.9978033110...|       0.0|\n",
      "|        0.0|33.0|39.0|51.7|15.9|24.0| 6.8| 6.46|3.38| 65.0| 7.0|70.4|   0.0|[0.0,33.0,39.0,51...|[170.831499775984...|[1.0,8.3902493585...|       0.0|\n",
      "|        0.0|33.0|40.9|73.0|17.2|22.9|10.0| 6.98|5.22| 90.0|14.7|72.4|   0.0|[0.0,33.0,40.9,73...|[169.414216295618...|[1.0,7.5866348618...|       0.0|\n",
      "|        0.0|33.0|46.4|68.2|10.3|20.0| 5.7| 7.36| 4.3| 79.0|18.7|68.6|   0.0|[0.0,33.0,46.4,68...|[186.631479388927...|[1.0,2.8369589880...|       0.0|\n",
      "|        0.0|33.0|46.7|88.3|23.4|23.9| 7.8| 9.42|4.62| 78.0|29.5|74.3|   0.0|[0.0,33.0,46.7,88...|[173.494053216988...|[1.0,4.1162488783...|       0.0|\n",
      "|        0.0|34.0|29.0|41.6|29.1|16.1| 4.8| 6.82|4.03| 62.0|14.5|53.2|   0.0|[0.0,34.0,29.0,41...|[179.734394802069...|[1.0,1.3425970660...|       0.0|\n",
      "|        0.0|35.0|27.8|99.0|30.7|27.8| 9.4|  6.8|4.27| 65.0|40.5|80.7|   0.0|[0.0,35.0,27.8,99...|[134.353837955771...|[1.0,7.0908733732...|       0.0|\n",
      "|        0.0|35.0|47.4|54.5|18.6|21.6|10.3|  8.1|6.23| 66.0|28.1|74.0|   0.0|[0.0,35.0,47.4,54...|[164.778468785441...|[1.0,4.0619938009...|       0.0|\n",
      "|        0.0|35.0|51.0|82.7|29.3|26.8| 8.7|12.32|5.44| 89.0|25.0|77.3|   0.0|[0.0,35.0,51.0,82...|[168.785448712191...|[1.0,3.6922401884...|       0.0|\n",
      "|        0.0|36.0|45.5|57.6|22.5|19.5| 7.5| 5.28|4.06| 88.0|62.5|71.6|   0.0|[0.0,36.0,45.5,57...|[160.052763645738...|[1.0,1.6970303193...|       0.0|\n",
      "|        0.0|37.0|38.6|61.2|24.6|31.9| 7.9| 6.02|4.63| 72.0|10.3|56.3|   0.0|[0.0,37.0,38.6,61...|[196.654706766017...|[1.0,1.3800179955...|       0.0|\n",
      "|        0.0|37.0|41.9|77.5|24.9|25.8| 4.1|  8.7|4.36| 84.0|16.0|71.5|   0.0|[0.0,37.0,41.9,77...|[178.079779418097...|[1.0,7.4123888985...|       0.0|\n",
      "|        0.0|37.0|43.6|72.8|51.4|43.7|13.8| 8.16|4.88| 70.0|94.5|75.2|   0.0|[0.0,37.0,43.6,72...|[131.323852953270...|[1.0,5.8691317942...|       0.0|\n",
      "|        0.0|37.0|46.4|53.3|20.2|24.9| 8.7| 8.63| 5.9| 86.0|23.3|78.9|   0.0|[0.0,37.0,46.4,53...|[156.387165563970...|[1.0,2.7597902036...|       0.0|\n",
      "|        0.0|37.0|50.4|48.5|19.4|27.5|11.6| 5.78|4.93| 90.0|27.8|75.0|   0.0|[0.0,37.0,50.4,48...|[167.328137728768...|[1.0,6.9816067331...|       0.0|\n",
      "+-----------+----+----+----+----+----+----+-----+----+-----+----+----+------+--------------------+--------------------+--------------------+----------+\n",
      "only showing top 20 rows\n",
      "\n",
      "None\n"
     ]
    }
   ],
   "source": [
    "print(y_predict.show())"
   ]
  },
  {
   "cell_type": "code",
   "execution_count": 172,
   "id": "533bb120",
   "metadata": {},
   "outputs": [
    {
     "name": "stdout",
     "output_type": "stream",
     "text": [
      "['GenderClass', 'Age', 'ALB', 'ALP', 'ALT', 'AST', 'BIL', 'CHE', 'CHOL', 'CREA', 'GGT', 'PROT', 'Target', 'features', 'rawPrediction', 'probability', 'prediction']\n"
     ]
    }
   ],
   "source": [
    "print(y_predict.columns)"
   ]
  },
  {
   "cell_type": "code",
   "execution_count": 174,
   "id": "376c5125",
   "metadata": {},
   "outputs": [
    {
     "name": "stdout",
     "output_type": "stream",
     "text": [
      "+--------------------+--------------------+----------+------+\n",
      "|       rawPrediction|         probability|prediction|Target|\n",
      "+--------------------+--------------------+----------+------+\n",
      "|[157.531535727600...|[1.0,2.5263528636...|       0.0|   0.0|\n",
      "|[163.828038284955...|[1.0,2.9631407690...|       0.0|   0.0|\n",
      "|[160.223611454770...|[1.0,3.0109555797...|       0.0|   0.0|\n",
      "|[140.932259013422...|[1.0,2.5462974430...|       0.0|   0.0|\n",
      "|[161.693773442523...|[1.0,2.5375762391...|       0.0|   0.0|\n",
      "|[133.311677689785...|[1.0,7.9978033110...|       0.0|   0.0|\n",
      "|[170.831499775984...|[1.0,8.3902493585...|       0.0|   0.0|\n",
      "|[169.414216295618...|[1.0,7.5866348618...|       0.0|   0.0|\n",
      "|[186.631479388927...|[1.0,2.8369589880...|       0.0|   0.0|\n",
      "|[173.494053216988...|[1.0,4.1162488783...|       0.0|   0.0|\n",
      "|[179.734394802069...|[1.0,1.3425970660...|       0.0|   0.0|\n",
      "|[134.353837955771...|[1.0,7.0908733732...|       0.0|   0.0|\n",
      "|[164.778468785441...|[1.0,4.0619938009...|       0.0|   0.0|\n",
      "|[168.785448712191...|[1.0,3.6922401884...|       0.0|   0.0|\n",
      "|[160.052763645738...|[1.0,1.6970303193...|       0.0|   0.0|\n",
      "|[196.654706766017...|[1.0,1.3800179955...|       0.0|   0.0|\n",
      "|[178.079779418097...|[1.0,7.4123888985...|       0.0|   0.0|\n",
      "|[131.323852953270...|[1.0,5.8691317942...|       0.0|   0.0|\n",
      "|[156.387165563970...|[1.0,2.7597902036...|       0.0|   0.0|\n",
      "|[167.328137728768...|[1.0,6.9816067331...|       0.0|   0.0|\n",
      "+--------------------+--------------------+----------+------+\n",
      "only showing top 20 rows\n",
      "\n",
      "None\n"
     ]
    }
   ],
   "source": [
    "print(y_predict.select('rawPrediction', 'probability', 'prediction', 'Target').show())"
   ]
  },
  {
   "cell_type": "code",
   "execution_count": 179,
   "id": "4702728c",
   "metadata": {},
   "outputs": [
    {
     "data": {
      "text/plain": [
       "0.9635416666666666"
      ]
     },
     "execution_count": 179,
     "metadata": {},
     "output_type": "execute_result"
    }
   ],
   "source": [
    "from pyspark.ml.evaluation import MulticlassClassificationEvaluator \n",
    "mult_evalutor= MulticlassClassificationEvaluator(labelCol=\"Target\", metricName='accuracy')\n",
    "mult_evalutor.evaluate(y_predict)"
   ]
  },
  {
   "cell_type": "code",
   "execution_count": null,
   "id": "1a43a84c",
   "metadata": {},
   "outputs": [],
   "source": []
  }
 ],
 "metadata": {
  "kernelspec": {
   "display_name": "Python 3 (ipykernel)",
   "language": "python",
   "name": "python3"
  },
  "language_info": {
   "codemirror_mode": {
    "name": "ipython",
    "version": 3
   },
   "file_extension": ".py",
   "mimetype": "text/x-python",
   "name": "python",
   "nbconvert_exporter": "python",
   "pygments_lexer": "ipython3",
   "version": "3.10.12"
  }
 },
 "nbformat": 4,
 "nbformat_minor": 5
}
